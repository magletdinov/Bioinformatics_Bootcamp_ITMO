{
 "cells": [
  {
   "cell_type": "code",
   "execution_count": 19,
   "id": "f8f4ce04-23c6-4507-8977-4b5058ba3dbc",
   "metadata": {
    "tags": []
   },
   "outputs": [
    {
     "ename": "ModuleNotFoundError",
     "evalue": "No module named 'seaborn'",
     "output_type": "error",
     "traceback": [
      "\u001b[0;31m---------------------------------------------------------------------------\u001b[0m",
      "\u001b[0;31mModuleNotFoundError\u001b[0m                       Traceback (most recent call last)",
      "Cell \u001b[0;32mIn[19], line 6\u001b[0m\n\u001b[1;32m      4\u001b[0m \u001b[38;5;28;01mimport\u001b[39;00m \u001b[38;5;21;01mio\u001b[39;00m\n\u001b[1;32m      5\u001b[0m \u001b[38;5;28;01mimport\u001b[39;00m \u001b[38;5;21;01mmatplotlib\u001b[39;00m\u001b[38;5;21;01m.\u001b[39;00m\u001b[38;5;21;01mpyplot\u001b[39;00m \u001b[38;5;28;01mas\u001b[39;00m \u001b[38;5;21;01mplt\u001b[39;00m\n\u001b[0;32m----> 6\u001b[0m \u001b[38;5;28;01mimport\u001b[39;00m \u001b[38;5;21;01mseaborn\u001b[39;00m \u001b[38;5;28;01mas\u001b[39;00m \u001b[38;5;21;01msns\u001b[39;00m\n",
      "\u001b[0;31mModuleNotFoundError\u001b[0m: No module named 'seaborn'"
     ]
    }
   ],
   "source": [
    "import pandas as pd\n",
    "from pathlib import Path\n",
    "from Bio import Phylo\n",
    "import io\n",
    "import matplotlib.pyplot as plt\n",
    "import seaborn as sns"
   ]
  },
  {
   "cell_type": "code",
   "execution_count": 3,
   "id": "fd5850f4-26a8-488d-936a-3b30526dad49",
   "metadata": {
    "tags": []
   },
   "outputs": [],
   "source": [
    "ROOT = Path().cwd()\n",
    "RUN = \"18_06_24\"\n",
    "DATA = (ROOT / f\"../total_seq_data/{RUN}/bracken/\").resolve()\n",
    "DATA_DOMAIN = (ROOT / f\"../total_seq_data/{RUN}/bracken_domain/\").resolve()"
   ]
  },
  {
   "cell_type": "code",
   "execution_count": 70,
   "id": "29147871-9853-483d-8afe-7a1ba8cda332",
   "metadata": {},
   "outputs": [],
   "source": [
    "DATA = Path(\"/export/data/agletdinov/hackathon_itmo/WGS_project/results/bracken_from_2\").resolve()"
   ]
  },
  {
   "cell_type": "code",
   "execution_count": 21,
   "id": "741f8c65-74b7-406c-967b-05cc836ce4e6",
   "metadata": {
    "tags": []
   },
   "outputs": [],
   "source": [
    "to_df = Path(\"../ncbi_taxonomy/nodes.dmp\")\n",
    "nodes = pd.read_csv(to_df, sep=\"\\t\", header=None, usecols=[0, 2, 4], names=[\"tax_id\", \"parent tax_id\", \"tax_name\"], index_col=\"tax_id\")"
   ]
  },
  {
   "cell_type": "code",
   "execution_count": 71,
   "id": "594b7e46-8f1f-4da5-b006-dc3b96004eaf",
   "metadata": {
    "tags": []
   },
   "outputs": [],
   "source": [
    "def create_path_to_root(taxid, nodes):\n",
    "    try:\n",
    "        path_to_root = []\n",
    "        path_to_root.append(taxid)\n",
    "        parent = nodes.loc[taxid][\"parent tax_id\"]\n",
    "        if parent != 1:\n",
    "            path_to_root.extend(create_path_to_root(parent, nodes))\n",
    "        return path_to_root\n",
    "    except:\n",
    "        return [\"None\"]"
   ]
  },
  {
   "cell_type": "code",
   "execution_count": 72,
   "id": "9cc4ed88-9842-40c5-986b-5c1b529361a9",
   "metadata": {
    "tags": []
   },
   "outputs": [],
   "source": [
    "df_dict = {i.stem:pd.read_csv(i, sep=\"\\t\") for i in DATA.glob(\"*.tsv\")}"
   ]
  },
  {
   "cell_type": "code",
   "execution_count": 73,
   "id": "6915280d-d13e-4882-bd1b-195118fb1728",
   "metadata": {
    "tags": []
   },
   "outputs": [
    {
     "data": {
      "text/plain": [
       "dict_keys(['S250053339_L01_1_bracken_S_mqc', 'S250053339_L01_2_bracken_S_mqc', 'S250053339_L01_3_bracken_S_mqc', 'S250053339_L01_4_bracken_S_mqc', 'S250053339_L01_97_bracken_S_mqc', 'S250053339_L01_98_bracken_S_mqc', 'S250059839_L01_35_bracken_S_mqc', 'S250059839_L01_36_bracken_S_mqc'])"
      ]
     },
     "execution_count": 73,
     "metadata": {},
     "output_type": "execute_result"
    }
   ],
   "source": [
    "df_dict.keys()"
   ]
  },
  {
   "cell_type": "code",
   "execution_count": 74,
   "id": "e8757841-ff17-4614-9ef6-f903104b6377",
   "metadata": {},
   "outputs": [
    {
     "data": {
      "text/html": [
       "<div>\n",
       "<style scoped>\n",
       "    .dataframe tbody tr th:only-of-type {\n",
       "        vertical-align: middle;\n",
       "    }\n",
       "\n",
       "    .dataframe tbody tr th {\n",
       "        vertical-align: top;\n",
       "    }\n",
       "\n",
       "    .dataframe thead th {\n",
       "        text-align: right;\n",
       "    }\n",
       "</style>\n",
       "<table border=\"1\" class=\"dataframe\">\n",
       "  <thead>\n",
       "    <tr style=\"text-align: right;\">\n",
       "      <th></th>\n",
       "      <th>name</th>\n",
       "      <th>taxonomy_id</th>\n",
       "      <th>taxonomy_lvl</th>\n",
       "      <th>kraken_assigned_reads</th>\n",
       "      <th>added_reads</th>\n",
       "      <th>new_est_reads</th>\n",
       "      <th>fraction_total_reads</th>\n",
       "    </tr>\n",
       "  </thead>\n",
       "  <tbody>\n",
       "    <tr>\n",
       "      <th>1071</th>\n",
       "      <td>Skunavirus sv79201</td>\n",
       "      <td>2845180</td>\n",
       "      <td>S</td>\n",
       "      <td>52</td>\n",
       "      <td>161</td>\n",
       "      <td>213</td>\n",
       "      <td>0.00003</td>\n",
       "    </tr>\n",
       "    <tr>\n",
       "      <th>1072</th>\n",
       "      <td>Skunavirus CHPC964</td>\n",
       "      <td>2845401</td>\n",
       "      <td>S</td>\n",
       "      <td>30</td>\n",
       "      <td>155</td>\n",
       "      <td>185</td>\n",
       "      <td>0.00003</td>\n",
       "    </tr>\n",
       "    <tr>\n",
       "      <th>1073</th>\n",
       "      <td>Skunavirus sv66901</td>\n",
       "      <td>2845179</td>\n",
       "      <td>S</td>\n",
       "      <td>20</td>\n",
       "      <td>54</td>\n",
       "      <td>74</td>\n",
       "      <td>0.00001</td>\n",
       "    </tr>\n",
       "    <tr>\n",
       "      <th>1074</th>\n",
       "      <td>Bohxovirus oralis</td>\n",
       "      <td>2955512</td>\n",
       "      <td>S</td>\n",
       "      <td>85</td>\n",
       "      <td>0</td>\n",
       "      <td>85</td>\n",
       "      <td>0.00001</td>\n",
       "    </tr>\n",
       "    <tr>\n",
       "      <th>1075</th>\n",
       "      <td>Kahnovirus oralis</td>\n",
       "      <td>2956047</td>\n",
       "      <td>S</td>\n",
       "      <td>23</td>\n",
       "      <td>2</td>\n",
       "      <td>25</td>\n",
       "      <td>0.00000</td>\n",
       "    </tr>\n",
       "    <tr>\n",
       "      <th>1076</th>\n",
       "      <td>Lebriduvirus gastrointestinalis</td>\n",
       "      <td>2956106</td>\n",
       "      <td>S</td>\n",
       "      <td>22</td>\n",
       "      <td>0</td>\n",
       "      <td>22</td>\n",
       "      <td>0.00000</td>\n",
       "    </tr>\n",
       "  </tbody>\n",
       "</table>\n",
       "</div>"
      ],
      "text/plain": [
       "                                 name  taxonomy_id taxonomy_lvl   \n",
       "1071               Skunavirus sv79201      2845180            S  \\\n",
       "1072               Skunavirus CHPC964      2845401            S   \n",
       "1073               Skunavirus sv66901      2845179            S   \n",
       "1074                Bohxovirus oralis      2955512            S   \n",
       "1075                Kahnovirus oralis      2956047            S   \n",
       "1076  Lebriduvirus gastrointestinalis      2956106            S   \n",
       "\n",
       "      kraken_assigned_reads  added_reads  new_est_reads  fraction_total_reads  \n",
       "1071                     52          161            213               0.00003  \n",
       "1072                     30          155            185               0.00003  \n",
       "1073                     20           54             74               0.00001  \n",
       "1074                     85            0             85               0.00001  \n",
       "1075                     23            2             25               0.00000  \n",
       "1076                     22            0             22               0.00000  "
      ]
     },
     "execution_count": 74,
     "metadata": {},
     "output_type": "execute_result"
    }
   ],
   "source": [
    "mask = df_dict[\"S250059839_L01_36_bracken_S_mqc\"][\"taxonomy_id\"].apply(lambda x: 10239 == create_path_to_root(x, nodes)[-1])\n",
    "df_dict[\"S250059839_L01_36_bracken_S_mqc\"][mask]"
   ]
  },
  {
   "cell_type": "code",
   "execution_count": 84,
   "id": "7e1c510c-9224-418d-bbbc-8e6f0d217a44",
   "metadata": {},
   "outputs": [],
   "source": [
    "df_dict_vir = {}\n",
    "vir_df_list = []\n",
    "for sample in df_dict:\n",
    "    df = df_dict[sample]\n",
    "    mask = df[\"taxonomy_id\"].apply(lambda x: 10239 == create_path_to_root(x, nodes)[-1])\n",
    "    df_vir = df[mask][[\"name\", \"taxonomy_id\", \"kraken_assigned_reads\"]]\n",
    "    df_vir[\"sample\"] = [\"_\".join(sample.split(\"_\")[:3]) for i in range(df_vir.shape[0])]\n",
    "    vir_df_list.append(df_vir)\n",
    "    \n",
    "    df_dict_vir[sample] = df[mask][[\"name\", \"taxonomy_id\", \"kraken_assigned_reads\"]]\n",
    "final_vir_df = pd.concat(vir_df_list).sort_values(by=[\"sample\", \"kraken_assigned_reads\"], ascending=False)\n",
    "final_vir_df.to_csv(\"bracken_vir_concat_mqc.tsv\", sep=\"\\t\", index=False)"
   ]
  },
  {
   "cell_type": "code",
   "execution_count": 83,
   "id": "2aea9198-b7c1-42f9-b87d-6f6b832bcde3",
   "metadata": {},
   "outputs": [
    {
     "data": {
      "text/html": [
       "<div>\n",
       "<style scoped>\n",
       "    .dataframe tbody tr th:only-of-type {\n",
       "        vertical-align: middle;\n",
       "    }\n",
       "\n",
       "    .dataframe tbody tr th {\n",
       "        vertical-align: top;\n",
       "    }\n",
       "\n",
       "    .dataframe thead th {\n",
       "        text-align: right;\n",
       "    }\n",
       "</style>\n",
       "<table border=\"1\" class=\"dataframe\">\n",
       "  <thead>\n",
       "    <tr style=\"text-align: right;\">\n",
       "      <th></th>\n",
       "      <th>name</th>\n",
       "      <th>taxonomy_id</th>\n",
       "      <th>kraken_assigned_reads</th>\n",
       "      <th>sample</th>\n",
       "    </tr>\n",
       "  </thead>\n",
       "  <tbody>\n",
       "    <tr>\n",
       "      <th>1074</th>\n",
       "      <td>Bohxovirus oralis</td>\n",
       "      <td>2955512</td>\n",
       "      <td>85</td>\n",
       "      <td>S250059839_L01_36</td>\n",
       "    </tr>\n",
       "    <tr>\n",
       "      <th>1071</th>\n",
       "      <td>Skunavirus sv79201</td>\n",
       "      <td>2845180</td>\n",
       "      <td>52</td>\n",
       "      <td>S250059839_L01_36</td>\n",
       "    </tr>\n",
       "    <tr>\n",
       "      <th>1072</th>\n",
       "      <td>Skunavirus CHPC964</td>\n",
       "      <td>2845401</td>\n",
       "      <td>30</td>\n",
       "      <td>S250059839_L01_36</td>\n",
       "    </tr>\n",
       "    <tr>\n",
       "      <th>1075</th>\n",
       "      <td>Kahnovirus oralis</td>\n",
       "      <td>2956047</td>\n",
       "      <td>23</td>\n",
       "      <td>S250059839_L01_36</td>\n",
       "    </tr>\n",
       "    <tr>\n",
       "      <th>1076</th>\n",
       "      <td>Lebriduvirus gastrointestinalis</td>\n",
       "      <td>2956106</td>\n",
       "      <td>22</td>\n",
       "      <td>S250059839_L01_36</td>\n",
       "    </tr>\n",
       "    <tr>\n",
       "      <th>1073</th>\n",
       "      <td>Skunavirus sv66901</td>\n",
       "      <td>2845179</td>\n",
       "      <td>20</td>\n",
       "      <td>S250059839_L01_36</td>\n",
       "    </tr>\n",
       "    <tr>\n",
       "      <th>4622</th>\n",
       "      <td>Cohcovirus splanchnicus</td>\n",
       "      <td>2955712</td>\n",
       "      <td>6278</td>\n",
       "      <td>S250053339_L01_98</td>\n",
       "    </tr>\n",
       "    <tr>\n",
       "      <th>4637</th>\n",
       "      <td>Kingevirus communis</td>\n",
       "      <td>2956060</td>\n",
       "      <td>4771</td>\n",
       "      <td>S250053339_L01_98</td>\n",
       "    </tr>\n",
       "    <tr>\n",
       "      <th>4623</th>\n",
       "      <td>Cohcovirus hiberniae</td>\n",
       "      <td>2955711</td>\n",
       "      <td>2596</td>\n",
       "      <td>S250053339_L01_98</td>\n",
       "    </tr>\n",
       "    <tr>\n",
       "      <th>4624</th>\n",
       "      <td>Canhaevirus faecalis</td>\n",
       "      <td>2955578</td>\n",
       "      <td>1001</td>\n",
       "      <td>S250053339_L01_98</td>\n",
       "    </tr>\n",
       "    <tr>\n",
       "      <th>4629</th>\n",
       "      <td>Buchavirus intestinalis</td>\n",
       "      <td>2955553</td>\n",
       "      <td>990</td>\n",
       "      <td>S250053339_L01_98</td>\n",
       "    </tr>\n",
       "    <tr>\n",
       "      <th>4625</th>\n",
       "      <td>Canhaevirus hiberniae</td>\n",
       "      <td>2955579</td>\n",
       "      <td>499</td>\n",
       "      <td>S250053339_L01_98</td>\n",
       "    </tr>\n",
       "    <tr>\n",
       "      <th>4649</th>\n",
       "      <td>Wellingtonvirus wellington</td>\n",
       "      <td>2734153</td>\n",
       "      <td>351</td>\n",
       "      <td>S250053339_L01_98</td>\n",
       "    </tr>\n",
       "    <tr>\n",
       "      <th>4640</th>\n",
       "      <td>Ceduovirus CHPC1170</td>\n",
       "      <td>2845389</td>\n",
       "      <td>133</td>\n",
       "      <td>S250053339_L01_98</td>\n",
       "    </tr>\n",
       "    <tr>\n",
       "      <th>4626</th>\n",
       "      <td>Culoivirus americanus</td>\n",
       "      <td>2955725</td>\n",
       "      <td>95</td>\n",
       "      <td>S250053339_L01_98</td>\n",
       "    </tr>\n",
       "    <tr>\n",
       "      <th>4650</th>\n",
       "      <td>Eponavirus epona</td>\n",
       "      <td>2734105</td>\n",
       "      <td>93</td>\n",
       "      <td>S250053339_L01_98</td>\n",
       "    </tr>\n",
       "    <tr>\n",
       "      <th>4627</th>\n",
       "      <td>Culoivirus faecalis</td>\n",
       "      <td>2955726</td>\n",
       "      <td>90</td>\n",
       "      <td>S250053339_L01_98</td>\n",
       "    </tr>\n",
       "    <tr>\n",
       "      <th>4638</th>\n",
       "      <td>Mahlunavirus rarus</td>\n",
       "      <td>2956179</td>\n",
       "      <td>86</td>\n",
       "      <td>S250053339_L01_98</td>\n",
       "    </tr>\n",
       "    <tr>\n",
       "      <th>4651</th>\n",
       "      <td>Anayavirus kisi</td>\n",
       "      <td>2955340</td>\n",
       "      <td>85</td>\n",
       "      <td>S250053339_L01_98</td>\n",
       "    </tr>\n",
       "    <tr>\n",
       "      <th>4652</th>\n",
       "      <td>Arawnvirus arawn</td>\n",
       "      <td>2696356</td>\n",
       "      <td>81</td>\n",
       "      <td>S250053339_L01_98</td>\n",
       "    </tr>\n",
       "    <tr>\n",
       "      <th>4641</th>\n",
       "      <td>Ceduovirus CHPC1242</td>\n",
       "      <td>2845393</td>\n",
       "      <td>62</td>\n",
       "      <td>S250053339_L01_98</td>\n",
       "    </tr>\n",
       "    <tr>\n",
       "      <th>4635</th>\n",
       "      <td>Aurodevirus hiberniae</td>\n",
       "      <td>2955382</td>\n",
       "      <td>51</td>\n",
       "      <td>S250053339_L01_98</td>\n",
       "    </tr>\n",
       "    <tr>\n",
       "      <th>4642</th>\n",
       "      <td>Ceduovirus CHPC122</td>\n",
       "      <td>2845392</td>\n",
       "      <td>41</td>\n",
       "      <td>S250053339_L01_98</td>\n",
       "    </tr>\n",
       "    <tr>\n",
       "      <th>4643</th>\n",
       "      <td>Ceduovirus bIBBp64</td>\n",
       "      <td>2845470</td>\n",
       "      <td>37</td>\n",
       "      <td>S250053339_L01_98</td>\n",
       "    </tr>\n",
       "    <tr>\n",
       "      <th>4653</th>\n",
       "      <td>Taranisvirus taranis</td>\n",
       "      <td>2734146</td>\n",
       "      <td>36</td>\n",
       "      <td>S250053339_L01_98</td>\n",
       "    </tr>\n",
       "    <tr>\n",
       "      <th>4628</th>\n",
       "      <td>Culoivirus intestinalis</td>\n",
       "      <td>2955727</td>\n",
       "      <td>33</td>\n",
       "      <td>S250053339_L01_98</td>\n",
       "    </tr>\n",
       "    <tr>\n",
       "      <th>4639</th>\n",
       "      <td>Mahstovirus faecalis</td>\n",
       "      <td>2956180</td>\n",
       "      <td>32</td>\n",
       "      <td>S250053339_L01_98</td>\n",
       "    </tr>\n",
       "    <tr>\n",
       "      <th>4630</th>\n",
       "      <td>Buchavirus copri</td>\n",
       "      <td>2955549</td>\n",
       "      <td>30</td>\n",
       "      <td>S250053339_L01_98</td>\n",
       "    </tr>\n",
       "    <tr>\n",
       "      <th>4654</th>\n",
       "      <td>Kleczkowskavirus RHEph4</td>\n",
       "      <td>1921526</td>\n",
       "      <td>30</td>\n",
       "      <td>S250053339_L01_98</td>\n",
       "    </tr>\n",
       "    <tr>\n",
       "      <th>4655</th>\n",
       "      <td>Santafevirus sf40AC</td>\n",
       "      <td>2956398</td>\n",
       "      <td>29</td>\n",
       "      <td>S250053339_L01_98</td>\n",
       "    </tr>\n",
       "    <tr>\n",
       "      <th>4644</th>\n",
       "      <td>Ceduovirus bIL67</td>\n",
       "      <td>36343</td>\n",
       "      <td>28</td>\n",
       "      <td>S250053339_L01_98</td>\n",
       "    </tr>\n",
       "    <tr>\n",
       "      <th>4645</th>\n",
       "      <td>Ceduovirus cv37203</td>\n",
       "      <td>2845160</td>\n",
       "      <td>27</td>\n",
       "      <td>S250053339_L01_98</td>\n",
       "    </tr>\n",
       "    <tr>\n",
       "      <th>4631</th>\n",
       "      <td>Buchavirus faecalis</td>\n",
       "      <td>2955550</td>\n",
       "      <td>25</td>\n",
       "      <td>S250053339_L01_98</td>\n",
       "    </tr>\n",
       "    <tr>\n",
       "      <th>4632</th>\n",
       "      <td>Buchavirus hominis</td>\n",
       "      <td>2955552</td>\n",
       "      <td>24</td>\n",
       "      <td>S250053339_L01_98</td>\n",
       "    </tr>\n",
       "    <tr>\n",
       "      <th>4633</th>\n",
       "      <td>Blohavirus faecalis</td>\n",
       "      <td>2955511</td>\n",
       "      <td>24</td>\n",
       "      <td>S250053339_L01_98</td>\n",
       "    </tr>\n",
       "    <tr>\n",
       "      <th>4636</th>\n",
       "      <td>Birpovirus hominis</td>\n",
       "      <td>2955499</td>\n",
       "      <td>23</td>\n",
       "      <td>S250053339_L01_98</td>\n",
       "    </tr>\n",
       "    <tr>\n",
       "      <th>4657</th>\n",
       "      <td>Chrysanthemum yellow dwarf virus</td>\n",
       "      <td>2813545</td>\n",
       "      <td>23</td>\n",
       "      <td>S250053339_L01_98</td>\n",
       "    </tr>\n",
       "    <tr>\n",
       "      <th>4646</th>\n",
       "      <td>Ceduovirus CHPC116</td>\n",
       "      <td>2845388</td>\n",
       "      <td>21</td>\n",
       "      <td>S250053339_L01_98</td>\n",
       "    </tr>\n",
       "    <tr>\n",
       "      <th>4634</th>\n",
       "      <td>Buorbuivirus hominis</td>\n",
       "      <td>2955559</td>\n",
       "      <td>20</td>\n",
       "      <td>S250053339_L01_98</td>\n",
       "    </tr>\n",
       "    <tr>\n",
       "      <th>4647</th>\n",
       "      <td>Ceduovirus LacS15</td>\n",
       "      <td>2845422</td>\n",
       "      <td>20</td>\n",
       "      <td>S250053339_L01_98</td>\n",
       "    </tr>\n",
       "    <tr>\n",
       "      <th>4648</th>\n",
       "      <td>Ceduovirus bIBBL12</td>\n",
       "      <td>2845469</td>\n",
       "      <td>20</td>\n",
       "      <td>S250053339_L01_98</td>\n",
       "    </tr>\n",
       "    <tr>\n",
       "      <th>4656</th>\n",
       "      <td>Theiavirus salishense</td>\n",
       "      <td>3060737</td>\n",
       "      <td>20</td>\n",
       "      <td>S250053339_L01_98</td>\n",
       "    </tr>\n",
       "    <tr>\n",
       "      <th>938</th>\n",
       "      <td>Streptococcus phage PH10</td>\n",
       "      <td>644007</td>\n",
       "      <td>25</td>\n",
       "      <td>S250053339_L01_97</td>\n",
       "    </tr>\n",
       "    <tr>\n",
       "      <th>65</th>\n",
       "      <td>Carjivirus communis</td>\n",
       "      <td>2955582</td>\n",
       "      <td>21</td>\n",
       "      <td>S250053339_L01_4</td>\n",
       "    </tr>\n",
       "  </tbody>\n",
       "</table>\n",
       "</div>"
      ],
      "text/plain": [
       "                                  name  taxonomy_id  kraken_assigned_reads   \n",
       "1074                 Bohxovirus oralis      2955512                     85  \\\n",
       "1071                Skunavirus sv79201      2845180                     52   \n",
       "1072                Skunavirus CHPC964      2845401                     30   \n",
       "1075                 Kahnovirus oralis      2956047                     23   \n",
       "1076   Lebriduvirus gastrointestinalis      2956106                     22   \n",
       "1073                Skunavirus sv66901      2845179                     20   \n",
       "4622           Cohcovirus splanchnicus      2955712                   6278   \n",
       "4637               Kingevirus communis      2956060                   4771   \n",
       "4623              Cohcovirus hiberniae      2955711                   2596   \n",
       "4624              Canhaevirus faecalis      2955578                   1001   \n",
       "4629           Buchavirus intestinalis      2955553                    990   \n",
       "4625             Canhaevirus hiberniae      2955579                    499   \n",
       "4649        Wellingtonvirus wellington      2734153                    351   \n",
       "4640               Ceduovirus CHPC1170      2845389                    133   \n",
       "4626             Culoivirus americanus      2955725                     95   \n",
       "4650                  Eponavirus epona      2734105                     93   \n",
       "4627               Culoivirus faecalis      2955726                     90   \n",
       "4638                Mahlunavirus rarus      2956179                     86   \n",
       "4651                   Anayavirus kisi      2955340                     85   \n",
       "4652                  Arawnvirus arawn      2696356                     81   \n",
       "4641               Ceduovirus CHPC1242      2845393                     62   \n",
       "4635             Aurodevirus hiberniae      2955382                     51   \n",
       "4642                Ceduovirus CHPC122      2845392                     41   \n",
       "4643                Ceduovirus bIBBp64      2845470                     37   \n",
       "4653              Taranisvirus taranis      2734146                     36   \n",
       "4628           Culoivirus intestinalis      2955727                     33   \n",
       "4639              Mahstovirus faecalis      2956180                     32   \n",
       "4630                  Buchavirus copri      2955549                     30   \n",
       "4654           Kleczkowskavirus RHEph4      1921526                     30   \n",
       "4655               Santafevirus sf40AC      2956398                     29   \n",
       "4644                  Ceduovirus bIL67        36343                     28   \n",
       "4645                Ceduovirus cv37203      2845160                     27   \n",
       "4631               Buchavirus faecalis      2955550                     25   \n",
       "4632                Buchavirus hominis      2955552                     24   \n",
       "4633               Blohavirus faecalis      2955511                     24   \n",
       "4636                Birpovirus hominis      2955499                     23   \n",
       "4657  Chrysanthemum yellow dwarf virus      2813545                     23   \n",
       "4646                Ceduovirus CHPC116      2845388                     21   \n",
       "4634              Buorbuivirus hominis      2955559                     20   \n",
       "4647                 Ceduovirus LacS15      2845422                     20   \n",
       "4648                Ceduovirus bIBBL12      2845469                     20   \n",
       "4656             Theiavirus salishense      3060737                     20   \n",
       "938           Streptococcus phage PH10       644007                     25   \n",
       "65                 Carjivirus communis      2955582                     21   \n",
       "\n",
       "                 sample  \n",
       "1074  S250059839_L01_36  \n",
       "1071  S250059839_L01_36  \n",
       "1072  S250059839_L01_36  \n",
       "1075  S250059839_L01_36  \n",
       "1076  S250059839_L01_36  \n",
       "1073  S250059839_L01_36  \n",
       "4622  S250053339_L01_98  \n",
       "4637  S250053339_L01_98  \n",
       "4623  S250053339_L01_98  \n",
       "4624  S250053339_L01_98  \n",
       "4629  S250053339_L01_98  \n",
       "4625  S250053339_L01_98  \n",
       "4649  S250053339_L01_98  \n",
       "4640  S250053339_L01_98  \n",
       "4626  S250053339_L01_98  \n",
       "4650  S250053339_L01_98  \n",
       "4627  S250053339_L01_98  \n",
       "4638  S250053339_L01_98  \n",
       "4651  S250053339_L01_98  \n",
       "4652  S250053339_L01_98  \n",
       "4641  S250053339_L01_98  \n",
       "4635  S250053339_L01_98  \n",
       "4642  S250053339_L01_98  \n",
       "4643  S250053339_L01_98  \n",
       "4653  S250053339_L01_98  \n",
       "4628  S250053339_L01_98  \n",
       "4639  S250053339_L01_98  \n",
       "4630  S250053339_L01_98  \n",
       "4654  S250053339_L01_98  \n",
       "4655  S250053339_L01_98  \n",
       "4644  S250053339_L01_98  \n",
       "4645  S250053339_L01_98  \n",
       "4631  S250053339_L01_98  \n",
       "4632  S250053339_L01_98  \n",
       "4633  S250053339_L01_98  \n",
       "4636  S250053339_L01_98  \n",
       "4657  S250053339_L01_98  \n",
       "4646  S250053339_L01_98  \n",
       "4634  S250053339_L01_98  \n",
       "4647  S250053339_L01_98  \n",
       "4648  S250053339_L01_98  \n",
       "4656  S250053339_L01_98  \n",
       "938   S250053339_L01_97  \n",
       "65     S250053339_L01_4  "
      ]
     },
     "execution_count": 83,
     "metadata": {},
     "output_type": "execute_result"
    }
   ],
   "source": [
    "final_vir_df"
   ]
  },
  {
   "cell_type": "code",
   "execution_count": null,
   "id": "69cbe5a2-ae87-4b7a-8ecc-39751d6f27bc",
   "metadata": {},
   "outputs": [],
   "source": [
    "final_vir_df."
   ]
  },
  {
   "cell_type": "code",
   "execution_count": null,
   "id": "97043515-7384-4d4f-9fcb-6f42d6bf28b3",
   "metadata": {},
   "outputs": [],
   "source": []
  },
  {
   "cell_type": "code",
   "execution_count": null,
   "id": "40e36781-de36-406c-8653-34ef15a4660d",
   "metadata": {},
   "outputs": [],
   "source": []
  },
  {
   "cell_type": "code",
   "execution_count": null,
   "id": "7b37826f-a262-47f6-a8ba-7db6f8d345e1",
   "metadata": {},
   "outputs": [],
   "source": []
  },
  {
   "cell_type": "code",
   "execution_count": 77,
   "id": "58c77506-338d-4190-acdf-ebc2a6023972",
   "metadata": {},
   "outputs": [
    {
     "name": "stdout",
     "output_type": "stream",
     "text": [
      "S250053339_L01_1_bracken_S_mqc\n",
      "S250053339_L01_2_bracken_S_mqc\n",
      "S250053339_L01_3_bracken_S_mqc\n",
      "S250053339_L01_4_bracken_S_mqc\n",
      "S250053339_L01_97_bracken_S_mqc\n",
      "S250053339_L01_98_bracken_S_mqc\n",
      "S250059839_L01_35_bracken_S_mqc\n",
      "S250059839_L01_36_bracken_S_mqc\n"
     ]
    }
   ],
   "source": [
    "HIV2 = []\n",
    "for sample in df_dict_vir:\n",
    "    print(sample)\n",
    "    subdf = df_dict[sample]\n",
    "    if (subdf[\"taxonomy_id\"] == 11709).sum() != 0:\n",
    "        HIV2.append(sample)"
   ]
  },
  {
   "cell_type": "code",
   "execution_count": 78,
   "id": "81047fa5-87bc-4904-b535-224374c27552",
   "metadata": {},
   "outputs": [
    {
     "data": {
      "text/plain": [
       "[]"
      ]
     },
     "execution_count": 78,
     "metadata": {},
     "output_type": "execute_result"
    }
   ],
   "source": [
    "HIV2"
   ]
  },
  {
   "cell_type": "code",
   "execution_count": 10,
   "id": "24c1c454-442d-4cb0-bee1-2335bc18700f",
   "metadata": {},
   "outputs": [
    {
     "data": {
      "text/html": [
       "<div>\n",
       "<style scoped>\n",
       "    .dataframe tbody tr th:only-of-type {\n",
       "        vertical-align: middle;\n",
       "    }\n",
       "\n",
       "    .dataframe tbody tr th {\n",
       "        vertical-align: top;\n",
       "    }\n",
       "\n",
       "    .dataframe thead th {\n",
       "        text-align: right;\n",
       "    }\n",
       "</style>\n",
       "<table border=\"1\" class=\"dataframe\">\n",
       "  <thead>\n",
       "    <tr style=\"text-align: right;\">\n",
       "      <th></th>\n",
       "      <th>name</th>\n",
       "      <th>taxonomy_id</th>\n",
       "      <th>taxonomy_lvl</th>\n",
       "      <th>kraken_assigned_reads</th>\n",
       "      <th>added_reads</th>\n",
       "      <th>new_est_reads</th>\n",
       "      <th>fraction_total_reads</th>\n",
       "    </tr>\n",
       "  </thead>\n",
       "  <tbody>\n",
       "    <tr>\n",
       "      <th>0</th>\n",
       "      <td>Homo sapiens</td>\n",
       "      <td>9606</td>\n",
       "      <td>S</td>\n",
       "      <td>3936162</td>\n",
       "      <td>1059</td>\n",
       "      <td>3937221</td>\n",
       "      <td>0.75480</td>\n",
       "    </tr>\n",
       "    <tr>\n",
       "      <th>1</th>\n",
       "      <td>Prevotella jejuni</td>\n",
       "      <td>1177574</td>\n",
       "      <td>S</td>\n",
       "      <td>522778</td>\n",
       "      <td>47761</td>\n",
       "      <td>570539</td>\n",
       "      <td>0.10938</td>\n",
       "    </tr>\n",
       "    <tr>\n",
       "      <th>2</th>\n",
       "      <td>Prevotella melaninogenica</td>\n",
       "      <td>28132</td>\n",
       "      <td>S</td>\n",
       "      <td>63408</td>\n",
       "      <td>10845</td>\n",
       "      <td>74253</td>\n",
       "      <td>0.01423</td>\n",
       "    </tr>\n",
       "    <tr>\n",
       "      <th>3</th>\n",
       "      <td>Prevotella intermedia</td>\n",
       "      <td>28131</td>\n",
       "      <td>S</td>\n",
       "      <td>43677</td>\n",
       "      <td>4131</td>\n",
       "      <td>47808</td>\n",
       "      <td>0.00917</td>\n",
       "    </tr>\n",
       "    <tr>\n",
       "      <th>4</th>\n",
       "      <td>Prevotella scopos</td>\n",
       "      <td>589437</td>\n",
       "      <td>S</td>\n",
       "      <td>20589</td>\n",
       "      <td>3241</td>\n",
       "      <td>23830</td>\n",
       "      <td>0.00457</td>\n",
       "    </tr>\n",
       "    <tr>\n",
       "      <th>...</th>\n",
       "      <td>...</td>\n",
       "      <td>...</td>\n",
       "      <td>...</td>\n",
       "      <td>...</td>\n",
       "      <td>...</td>\n",
       "      <td>...</td>\n",
       "      <td>...</td>\n",
       "    </tr>\n",
       "    <tr>\n",
       "      <th>307</th>\n",
       "      <td>Lactococcus phage P680</td>\n",
       "      <td>1262537</td>\n",
       "      <td>S</td>\n",
       "      <td>35</td>\n",
       "      <td>46</td>\n",
       "      <td>81</td>\n",
       "      <td>0.00002</td>\n",
       "    </tr>\n",
       "    <tr>\n",
       "      <th>308</th>\n",
       "      <td>Lactococcus virus ASCC191</td>\n",
       "      <td>1165134</td>\n",
       "      <td>S</td>\n",
       "      <td>34</td>\n",
       "      <td>38</td>\n",
       "      <td>72</td>\n",
       "      <td>0.00001</td>\n",
       "    </tr>\n",
       "    <tr>\n",
       "      <th>309</th>\n",
       "      <td>Lactococcus virus Bibb29</td>\n",
       "      <td>494269</td>\n",
       "      <td>S</td>\n",
       "      <td>27</td>\n",
       "      <td>38</td>\n",
       "      <td>65</td>\n",
       "      <td>0.00001</td>\n",
       "    </tr>\n",
       "    <tr>\n",
       "      <th>310</th>\n",
       "      <td>Lactococcus virus 712</td>\n",
       "      <td>213769</td>\n",
       "      <td>S</td>\n",
       "      <td>22</td>\n",
       "      <td>17</td>\n",
       "      <td>39</td>\n",
       "      <td>0.00001</td>\n",
       "    </tr>\n",
       "    <tr>\n",
       "      <th>311</th>\n",
       "      <td>Lactococcus virus Sl4</td>\n",
       "      <td>287412</td>\n",
       "      <td>S</td>\n",
       "      <td>21</td>\n",
       "      <td>28</td>\n",
       "      <td>49</td>\n",
       "      <td>0.00001</td>\n",
       "    </tr>\n",
       "  </tbody>\n",
       "</table>\n",
       "<p>312 rows × 7 columns</p>\n",
       "</div>"
      ],
      "text/plain": [
       "                          name  taxonomy_id taxonomy_lvl   \n",
       "0                 Homo sapiens         9606            S  \\\n",
       "1            Prevotella jejuni      1177574            S   \n",
       "2    Prevotella melaninogenica        28132            S   \n",
       "3        Prevotella intermedia        28131            S   \n",
       "4            Prevotella scopos       589437            S   \n",
       "..                         ...          ...          ...   \n",
       "307     Lactococcus phage P680      1262537            S   \n",
       "308  Lactococcus virus ASCC191      1165134            S   \n",
       "309   Lactococcus virus Bibb29       494269            S   \n",
       "310      Lactococcus virus 712       213769            S   \n",
       "311      Lactococcus virus Sl4       287412            S   \n",
       "\n",
       "     kraken_assigned_reads  added_reads  new_est_reads  fraction_total_reads  \n",
       "0                  3936162         1059        3937221               0.75480  \n",
       "1                   522778        47761         570539               0.10938  \n",
       "2                    63408        10845          74253               0.01423  \n",
       "3                    43677         4131          47808               0.00917  \n",
       "4                    20589         3241          23830               0.00457  \n",
       "..                     ...          ...            ...                   ...  \n",
       "307                     35           46             81               0.00002  \n",
       "308                     34           38             72               0.00001  \n",
       "309                     27           38             65               0.00001  \n",
       "310                     22           17             39               0.00001  \n",
       "311                     21           28             49               0.00001  \n",
       "\n",
       "[312 rows x 7 columns]"
      ]
     },
     "execution_count": 10,
     "metadata": {},
     "output_type": "execute_result"
    }
   ],
   "source": [
    "subdf"
   ]
  },
  {
   "cell_type": "code",
   "execution_count": 36,
   "id": "e0f4a335-c577-4a2a-ab34-c8d0af720b8a",
   "metadata": {
    "tags": []
   },
   "outputs": [],
   "source": [
    "df_dict_vir = {}\n",
    "sum_of_contominants = {}\n",
    "for sample in df_dict:\n",
    "    try:\n",
    "        #mask = df_dict[sample][\"taxonomy_id\"].apply(lambda x: 10239 in create_path_to_root(x, nodes))\n",
    "        #subdf = df_dict[sample][mask]\n",
    "        subdf = df_dict[sample]\n",
    "        sum_of_contominants[sample] = subdf[mask2][\"kraken_assigned_reads\"].sum()\n",
    "        df_dict_vir[sample] = subdf[~mask2]\n",
    "        df_dict[sample][mask].to_csv(DATA / f\"../{RUN}/bracken_filt/{sample}_mqc.tsv\", sep=\"\\t\")\n",
    "    except:\n",
    "        continue"
   ]
  },
  {
   "cell_type": "code",
   "execution_count": 34,
   "id": "1cd631a9-8c7e-4b3f-9cb1-638548cafd5c",
   "metadata": {
    "tags": []
   },
   "outputs": [
    {
     "data": {
      "text/plain": [
       "(42, 7)"
      ]
     },
     "execution_count": 34,
     "metadata": {},
     "output_type": "execute_result"
    }
   ],
   "source": [
    "df_dict[\"HERP_001_S9_bracken_S_mqc\"].shape"
   ]
  },
  {
   "cell_type": "code",
   "execution_count": 39,
   "id": "f97c0d87-169e-4855-9186-fcf2e9bbd411",
   "metadata": {
    "tags": []
   },
   "outputs": [
    {
     "data": {
      "text/plain": [
       "PosixPath('/export/home/agletdinov/work/git_projects/ncbi_taxonomy/total_seq_data/18_06_24/bracken_filt/HERP_001_S9_bracken_S_mqc_mqc.tsv')"
      ]
     },
     "execution_count": 39,
     "metadata": {},
     "output_type": "execute_result"
    }
   ],
   "source": [
    "(DATA / f\"../bracken_filt/{sample}_mqc.tsv\").resolve()"
   ]
  },
  {
   "cell_type": "code",
   "execution_count": 43,
   "id": "20fa0f38-2f59-4bec-a425-dc7e3850c56f",
   "metadata": {},
   "outputs": [],
   "source": [
    "df_dict_vir[sample].sort_values(by=\"kraken_assigned_reads\", ascending=False).to_csv(DATA / f\"../bracken_filt/{sample}_filt_mqc.tsv\", sep=\"\\t\")"
   ]
  },
  {
   "cell_type": "code",
   "execution_count": 88,
   "id": "33dac2c2-c4d2-46f6-9c6a-988975306b02",
   "metadata": {
    "tags": []
   },
   "outputs": [
    {
     "data": {
      "text/plain": [
       "1304"
      ]
     },
     "execution_count": 88,
     "metadata": {},
     "output_type": "execute_result"
    }
   ],
   "source": [
    "sum_of_contominants[\"p29_Allprep_power_DNA_RNA_kit_nextera_S12_bracken_S_mqc\"]"
   ]
  },
  {
   "cell_type": "markdown",
   "id": "bfdf44be-65b1-484e-8761-656524ef0b66",
   "metadata": {},
   "source": [
    "phylum"
   ]
  },
  {
   "cell_type": "code",
   "execution_count": 90,
   "id": "01d38b30-5878-43d1-9438-110e6ac0f933",
   "metadata": {
    "tags": []
   },
   "outputs": [],
   "source": [
    "df_dict_domain = {i.stem:pd.read_csv(i, sep=\"\\t\") for i in DATA_DOMAIN.glob(\"*.tsv\")}"
   ]
  },
  {
   "cell_type": "code",
   "execution_count": 96,
   "id": "0bbdb376-20de-4f84-9f9e-40d1eb9cb680",
   "metadata": {
    "tags": []
   },
   "outputs": [
    {
     "data": {
      "text/plain": [
       "3    16877\n",
       "Name: kraken_assigned_reads, dtype: int64"
      ]
     },
     "execution_count": 96,
     "metadata": {},
     "output_type": "execute_result"
    }
   ],
   "source": [
    "df_dict_domain[\"p29_Allprep_power_DNA_RNA_kit_nextera_S12_bracken_S_mqc\"].query(\"name == 'Viruses'\")[\"kraken_assigned_reads\"] - sum_of_contominants[\"p29_Allprep_power_DNA_RNA_kit_nextera_S12_bracken_S_mqc\"]"
   ]
  },
  {
   "cell_type": "code",
   "execution_count": 109,
   "id": "595bff5d-e076-4f20-8da4-618490a9983b",
   "metadata": {
    "tags": []
   },
   "outputs": [],
   "source": [
    "clear_viral_reads = {}\n",
    "fraction_of_clear_viral_reads = {}\n",
    "for i in df_dict_domain:\n",
    "    clear_viral_reads[i] = df_dict_domain[i].query(\"name == 'Viruses'\")[\"kraken_assigned_reads\"] - sum_of_contominants[i]\n",
    "    \n",
    "    fraction_of_clear_viral_reads[i] = (clear_viral_reads[i] / df_dict_domain[i][\"kraken_assigned_reads\"].sum() * 100).values[0]"
   ]
  },
  {
   "cell_type": "code",
   "execution_count": 110,
   "id": "252e0386-9bb4-473e-be07-8d51d6604dbc",
   "metadata": {
    "tags": []
   },
   "outputs": [
    {
     "data": {
      "text/plain": [
       "dict_values([0.1385854611625373, 0.17184883386287325, 0.10519016452965109, 0.21341742576927372, 0.08782764782972827, 0.11784370173754635, 0.12290437641079377, 0.10913770731992634, 0.09392389045629446, 0.10157740784865338, 0.22466317064075192, 0.10460792289685397, 0.08845389462760854])"
      ]
     },
     "execution_count": 110,
     "metadata": {},
     "output_type": "execute_result"
    }
   ],
   "source": [
    "fraction_of_clear_viral_reads.values()"
   ]
  },
  {
   "cell_type": "code",
   "execution_count": 126,
   "id": "625f1cba-d334-4402-aaa9-b21c25b5056b",
   "metadata": {
    "tags": []
   },
   "outputs": [
    {
     "data": {
      "text/plain": [
       "{'33k_ribo_prep_nextera_S2_bracken_S_mqc': 0.08782764782972827,\n",
       " 'Undetermined_S0_bracken_S_mqc': 0.08845389462760854,\n",
       " 'p27_Viral_RNA_mini_kit_nextera_S7_bracken_S_mqc': 0.09392389045629446,\n",
       " 'p29_Allprep_power_DNA_RNA_kit_nextera_S12_bracken_S_mqc': 0.10157740784865338,\n",
       " 'p29_Viral_RNA_mini_kit_nextera_S8_bracken_S_mqc': 0.10460792289685397,\n",
       " '31k_Viral_RNA_mini_kit_nextera_S5_bracken_S_mqc': 0.10519016452965109,\n",
       " 'p27_ribo_prep_nextera_S3_bracken_S_mqc': 0.10913770731992634,\n",
       " '33k_Viral_RNA_mini_kit_nextera_S6_bracken_S_mqc': 0.11784370173754635,\n",
       " 'p27_Allprep_power_DNA_RNA_kit_nextera_S11_bracken_S_mqc': 0.12290437641079377,\n",
       " '31k_Allprep_power_DNA_RNA_kit_nextera_S9_bracken_S_mqc': 0.1385854611625373,\n",
       " '31k_ribo_prep_nextera_S1_bracken_S_mqc': 0.17184883386287325,\n",
       " '33k_Allprep_power_DNA_RNA_kit_nextera_S10_bracken_S_mqc': 0.21341742576927372,\n",
       " 'p29_ribo_prep_nextera_S4_bracken_S_mqc': 0.22466317064075192}"
      ]
     },
     "execution_count": 126,
     "metadata": {},
     "output_type": "execute_result"
    }
   ],
   "source": []
  },
  {
   "cell_type": "code",
   "execution_count": 128,
   "id": "0adc76d5-2129-486c-b25f-46bb60d16f79",
   "metadata": {
    "tags": []
   },
   "outputs": [
    {
     "data": {
      "image/png": "[encoded data removed]",
      "text/plain": [
       "<Figure size 640x480 with 1 Axes>"
      ]
     },
     "metadata": {},
     "output_type": "display_data"
    }
   ],
   "source": [
    "sorted_fraction_of_clear_viral_reads = {k: v for k, v in sorted(fraction_of_clear_viral_reads.items(), key=lambda fraction_of_clear_viral_reads: fraction_of_clear_viral_reads[1], reverse=True)}\n",
    "sns.barplot(x=list(sorted_fraction_of_clear_viral_reads.keys()), y=list(sorted_fraction_of_clear_viral_reads.values()))\n",
    "plt.xlabel('Образцы')\n",
    "plt.ylabel('% от общего числа прочтений')\n",
    "plt.title('Процент вирусных прочтений на образец (без контаминации)')\n",
    "plt.xticks(rotation=90)\n",
    "plt.show()"
   ]
  },
  {
   "cell_type": "code",
   "execution_count": null,
   "id": "d81b1ecb-377e-467e-99f9-42f8ec5527be",
   "metadata": {},
   "outputs": [],
   "source": []
  }
 ],
 "metadata": {
  "kernelspec": {
   "display_name": "Python 3 (ipykernel)",
   "language": "python",
   "name": "python3"
  },
  "language_info": {
   "codemirror_mode": {
    "name": "ipython",
    "version": 3
   },
   "file_extension": ".py",
   "mimetype": "text/x-python",
   "name": "python",
   "nbconvert_exporter": "python",
   "pygments_lexer": "ipython3",
   "version": "3.11.3"
  }
 },
 "nbformat": 4,
 "nbformat_minor": 5
}
